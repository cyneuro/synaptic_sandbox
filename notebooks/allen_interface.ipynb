{
 "cells": [
  {
   "cell_type": "markdown",
   "metadata": {},
   "source": [
    "Get the desired cell from Allen DB"
   ]
  },
  {
   "cell_type": "code",
   "execution_count": null,
   "metadata": {},
   "outputs": [],
   "source": [
    "download_cell = input(\"True or False: Do you want to download the cell? \")\n",
    "if download_cell not in [True, False]:\n",
    "    ValueError(\"Enter bool: True or False\")\n",
    "if download_cell == \"True\":\n",
    "    print(\"Downloading the cell\")\n",
    "else:\n",
    "    print(\"Not downloading the cell\")"
   ]
  },
  {
   "cell_type": "code",
   "execution_count": 1,
   "metadata": {},
   "outputs": [],
   "source": [
    "# !pip install allensdk"
   ]
  },
  {
   "cell_type": "code",
   "execution_count": 2,
   "metadata": {},
   "outputs": [],
   "source": [
    "cell_id = 477127614\n",
    "cell_dir = f'Allen/Cell_{cell_id}'"
   ]
  },
  {
   "cell_type": "code",
   "execution_count": 3,
   "metadata": {},
   "outputs": [],
   "source": [
    "from allensdk.api.queries.biophysical_api import BiophysicalApi\n",
    "from allensdk.model.biophys_sim.config import Config\n",
    "from allensdk.model.biophysical.utils import Utils\n",
    "import re\n",
    "import json\n",
    "import numpy as np\n",
    "import subprocess\n",
    "import sys\n",
    "import os\n"
   ]
  },
  {
   "cell_type": "code",
   "execution_count": 4,
   "metadata": {},
   "outputs": [],
   "source": [
    "if not os.path.exists(cell_dir):\n",
    "    os.mkdir(cell_dir)"
   ]
  },
  {
   "cell_type": "code",
   "execution_count": 5,
   "metadata": {},
   "outputs": [],
   "source": [
    "os.chdir(cell_dir)"
   ]
  },
  {
   "cell_type": "code",
   "execution_count": null,
   "metadata": {},
   "outputs": [
    {
     "data": {
      "text/plain": [
       "[{'id': 497232641,\n",
       "  'name': 'Biophysical - all active_Slc17a6-IRES-Cre;Ai14-190263.04.01.01',\n",
       "  'neuron_reconstruction_id': 491392956,\n",
       "  'neuronal_model_template_id': 491455321,\n",
       "  'specimen_id': 477127614},\n",
       " {'id': 478809991,\n",
       "  'name': 'Biophysical - perisomatic_Slc17a6-IRES-Cre;Ai14-190263.04.01.01',\n",
       "  'neuron_reconstruction_id': 491392956,\n",
       "  'neuronal_model_template_id': 329230710,\n",
       "  'specimen_id': 477127614}]"
      ]
     },
     "execution_count": 6,
     "metadata": {},
     "output_type": "execute_result"
    }
   ],
   "source": [
    "if download_cell:\n",
    "    bp = BiophysicalApi()\n",
    "    query = bp.get_neuronal_models(cell_id)\n",
    "    query"
   ]
  },
  {
   "cell_type": "code",
   "execution_count": null,
   "metadata": {},
   "outputs": [],
   "source": [
    "if download_cell:\n",
    "    q_idx = int(input(f\"Choose which query you would like to use (0-{len(query)-1}): {[cell['name'] for cell in query]}\"))\n",
    "    if q_idx < 0 or q_idx >= len(query):\n",
    "        ValueError(\"Invalid query index: {q_idx}\")"
   ]
  },
  {
   "cell_type": "code",
   "execution_count": null,
   "metadata": {},
   "outputs": [
    {
     "name": "stderr",
     "output_type": "stream",
     "text": [
      "2025-03-18 10:43:10,463 allensdk.api.api.retrieve_file_over_http INFO     Downloading URL: http://api.brain-map.org/api/v2/well_known_file_download/706381807\n",
      "2025-03-18 10:43:10,844 allensdk.api.api.retrieve_file_over_http INFO     Downloading URL: http://api.brain-map.org/api/v2/well_known_file_download/491392958\n",
      "2025-03-18 10:43:11,098 allensdk.api.api.retrieve_file_over_http INFO     Downloading URL: http://api.brain-map.org/api/v2/well_known_file_download/706381810\n",
      "2025-03-18 10:43:11,240 allensdk.api.api.retrieve_file_over_http INFO     Downloading URL: http://api.brain-map.org/api/v2/well_known_file_download/496607496\n",
      "2025-03-18 10:43:11,441 allensdk.api.api.retrieve_file_over_http INFO     Downloading URL: http://api.brain-map.org/api/v2/well_known_file_download/395337019\n",
      "2025-03-18 10:43:11,588 allensdk.api.api.retrieve_file_over_http INFO     Downloading URL: http://api.brain-map.org/api/v2/well_known_file_download/395337225\n",
      "2025-03-18 10:43:11,727 allensdk.api.api.retrieve_file_over_http INFO     Downloading URL: http://api.brain-map.org/api/v2/well_known_file_download/395337054\n",
      "2025-03-18 10:43:11,890 allensdk.api.api.retrieve_file_over_http INFO     Downloading URL: http://api.brain-map.org/api/v2/well_known_file_download/395337070\n",
      "2025-03-18 10:43:12,054 allensdk.api.api.retrieve_file_over_http INFO     Downloading URL: http://api.brain-map.org/api/v2/well_known_file_download/491113425\n",
      "2025-03-18 10:43:12,242 allensdk.api.api.retrieve_file_over_http INFO     Downloading URL: http://api.brain-map.org/api/v2/well_known_file_download/395337062\n",
      "2025-03-18 10:43:12,389 allensdk.api.api.retrieve_file_over_http INFO     Downloading URL: http://api.brain-map.org/api/v2/well_known_file_download/395337293\n",
      "2025-03-18 10:43:12,552 allensdk.api.api.retrieve_file_over_http INFO     Downloading URL: http://api.brain-map.org/api/v2/well_known_file_download/395337007\n",
      "2025-03-18 10:43:12,722 allensdk.api.api.retrieve_file_over_http INFO     Downloading URL: http://api.brain-map.org/api/v2/well_known_file_download/464138096\n",
      "2025-03-18 10:43:12,872 allensdk.api.api.retrieve_file_over_http INFO     Downloading URL: http://api.brain-map.org/api/v2/well_known_file_download/395337066\n",
      "2025-03-18 10:43:13,041 allensdk.api.api.retrieve_file_over_http INFO     Downloading URL: http://api.brain-map.org/api/v2/well_known_file_download/395337015\n",
      "2025-03-18 10:43:13,239 allensdk.api.api.retrieve_file_over_http INFO     Downloading URL: http://api.brain-map.org/api/v2/well_known_file_download/395337011\n",
      "2025-03-18 10:43:13,403 allensdk.api.api.retrieve_file_over_http INFO     Downloading URL: http://api.brain-map.org/api/v2/well_known_file_download/395337046\n",
      "2025-03-18 10:43:13,559 allensdk.api.api.retrieve_file_over_http INFO     Downloading URL: http://api.brain-map.org/api/v2/well_known_file_download/395337042\n",
      "2025-03-18 10:43:13,704 allensdk.api.api.retrieve_file_over_http INFO     Downloading URL: http://api.brain-map.org/api/v2/well_known_file_download/395337050\n",
      "2025-03-18 10:43:13,850 allensdk.api.api.retrieve_file_over_http INFO     Downloading URL: http://api.brain-map.org/api/v2/well_known_file_download/395337003\n",
      "2025-03-18 10:43:13,987 allensdk.api.api.retrieve_file_over_http INFO     Downloading URL: http://api.brain-map.org/api/v2/well_known_file_download/568154351\n"
     ]
    }
   ],
   "source": [
    "if download_cell:\n",
    "    bp.cache_stimulus = False # Change to False to not download the large stimulus NWB file\n",
    "    bp.cache_data(query[q_idx]['id']) # 'id'"
   ]
  },
  {
   "cell_type": "code",
   "execution_count": null,
   "metadata": {},
   "outputs": [],
   "source": [
    "# add synapse modfiles\n",
    "%cp ../../modfiles/synapses/* modfiles/"
   ]
  },
  {
   "cell_type": "markdown",
   "metadata": {},
   "source": [
    "Build the Cell"
   ]
  },
  {
   "cell_type": "code",
   "execution_count": null,
   "metadata": {},
   "outputs": [],
   "source": [
    "def update_missing_passive_values(utils, user_specs_dict):\n",
    "  # update missing properties to user_specs_dict if they're not already in the allen specifications\n",
    "  if \"e_pas\" not in utils.description.data[\"passive\"][0].keys():\n",
    "    utils.description.data[\"passive\"][0][\"e_pas\"] = user_specs_dict[\"e_pas\"]\n",
    "    print(f\"e_pas not in Allen specs, updating to {user_specs_dict['e_pas']}\")\n",
    "  \n",
    "  if \"cm\" not in utils.description.data[\"passive\"][0].keys():\n",
    "    utils.description.data[\"passive\"][0][\"cm\"] = user_specs_dict[\"cm\"]\n",
    "    print(f\"cm not in Allen specs, updating to {user_specs_dict['cm']}\")\n",
    "\n",
    "  if \"ra\" not in utils.description.data[\"passive\"][0].keys():\n",
    "    utils.description.data[\"passive\"][0][\"ra\"] = user_specs_dict[\"ra\"]\n",
    "    print(f\"ra not in Allen specs, updating to {user_specs_dict['ra']}\")\n",
    "\n",
    "  return utils\n",
    "\n",
    "def load_dictionary_from_json(file_path):\n",
    "  \"\"\"Loads a dictionary from a JSON file.\n",
    "\n",
    "  Args:\n",
    "    file_path: The path to the JSON file.\n",
    "\n",
    "  Returns:\n",
    "    A dictionary loaded from the JSON file.\n",
    "\n",
    "  Raises:\n",
    "    ValueError: If the JSON file is invalid or cannot be parsed.\n",
    "    FileNotFoundError: If the specified file does not exist.\n",
    "  \"\"\"\n",
    "  try:\n",
    "    with open(file_path, 'r') as file:\n",
    "      try:\n",
    "        data = json.load(file)\n",
    "        if not isinstance(data, type({})):\n",
    "          raise ValueError(\"JSON file does not contain a dictionary.\")\n",
    "        print(f\"loaded user_specs from {file_path}\")\n",
    "        return data\n",
    "      except json.JSONDecodeError as e:\n",
    "        raise ValueError(f\"Invalid JSON format: {e}\") from e\n",
    "  except FileNotFoundError:\n",
    "    raise FileNotFoundError(f\"File not found: {file_path}\")"
   ]
  },
  {
   "cell_type": "code",
   "execution_count": 26,
   "metadata": {},
   "outputs": [
    {
     "name": "stdout",
     "output_type": "stream",
     "text": [
      "compiling modfiles\n"
     ]
    },
    {
     "name": "stderr",
     "output_type": "stream",
     "text": [
      "/home/drfrbc/miniconda3/envs/sim_env/bin/nrnivmodl:10: DeprecationWarning: pkg_resources is deprecated as an API. See https://setuptools.pypa.io/en/latest/pkg_resources.html\n",
      "  from pkg_resources import working_set\n"
     ]
    },
    {
     "name": "stdout",
     "output_type": "stream",
     "text": [
      "/home/drfrbc/Neural-Modeling/Allen/Cell_477127614\n",
      "Mod files: \"modfiles/modfiles/AMPA_NMDA.mod\" \"modfiles/modfiles/AMPA_NMDA_STP_LTP.mod\" \"modfiles/modfiles/AMPA_NMDA_STP.mod\" \"modfiles/modfiles/CaDynamics.mod\" \"modfiles/modfiles/Ca_HVA.mod\" \"modfiles/modfiles/Ca_LVA.mod\" \"modfiles/modfiles/GABA_AB.mod\" \"modfiles/modfiles/GABA_AB_STP.mod\" \"modfiles/modfiles/Ih.mod\" \"modfiles/modfiles/Im.mod\" \"modfiles/modfiles/Im_v2.mod\" \"modfiles/modfiles/int2pyr.mod\" \"modfiles/modfiles/Kd.mod\" \"modfiles/modfiles/K_P.mod\" \"modfiles/modfiles/K_T.mod\" \"modfiles/modfiles/Kv2like.mod\" \"modfiles/modfiles/Kv3_1.mod\" \"modfiles/modfiles/Nap.mod\" \"modfiles/modfiles/NaTa.mod\" \"modfiles/modfiles/NaTs.mod\" \"modfiles/modfiles/NaV.mod\" \"modfiles/modfiles/pyr2pyr.mod\" \"modfiles/modfiles/pyr2pyrSUM.mod\" \"modfiles/modfiles/SK.mod\" \"modfiles/modfiles/vecevent.mod\"\n",
      "\n",
      "Creating 'x86_64' directory for .o files.\n",
      "\n",
      " -> \u001b[32mCompiling\u001b[0m mod_func.cpp\n",
      " -> \u001b[32mNMODL\u001b[0m ../modfiles/AMPA_NMDA.mod\n",
      " -> \u001b[32mNMODL\u001b[0m ../modfiles/AMPA_NMDA_STP.mod\n",
      " -> \u001b[32mNMODL\u001b[0m ../modfiles/AMPA_NMDA_STP_LTP.mod\n",
      " -> \u001b[32mNMODL\u001b[0m ../modfiles/CaDynamics.mod\n",
      " -> \u001b[32mNMODL\u001b[0m ../modfiles/Ca_HVA.mod\n",
      " -> \u001b[32mNMODL\u001b[0m ../modfiles/Ca_LVA.mod\n",
      " -> \u001b[32mNMODL\u001b[0m ../modfiles/GABA_AB.mod\n",
      " -> \u001b[32mNMODL\u001b[0m ../modfiles/GABA_AB_STP.mod\n",
      " -> \u001b[32mNMODL\u001b[0m ../modfiles/Ih.mod\n",
      " -> \u001b[32mNMODL\u001b[0m ../modfiles/Im.mod\n",
      " -> \u001b[32mNMODL\u001b[0m ../modfiles/Im_v2.mod\n",
      " -> \u001b[32mNMODL\u001b[0m ../modfiles/int2pyr.mod\n",
      " -> \u001b[32mNMODL\u001b[0m ../modfiles/Kd.mod\n",
      " -> \u001b[32mNMODL\u001b[0m ../modfiles/K_P.mod\n",
      " -> \u001b[32mNMODL\u001b[0m ../modfiles/K_T.mod\n",
      " -> \u001b[32mNMODL\u001b[0m ../modfiles/Kv2like.mod\n",
      " -> \u001b[32mNMODL\u001b[0m ../modfiles/Kv3_1.mod\n",
      " -> \u001b[32mNMODL\u001b[0m ../modfiles/Nap.mod\n",
      " -> \u001b[32mNMODL\u001b[0m ../modfiles/NaTa.mod\n",
      " -> \u001b[32mNMODL\u001b[0m ../modfiles/NaTs.mod\n",
      " -> \u001b[32mNMODL\u001b[0m ../modfiles/NaV.mod\n",
      " -> \u001b[32mNMODL\u001b[0m ../modfiles/pyr2pyr.mod\n",
      " -> \u001b[32mNMODL\u001b[0m ../modfiles/pyr2pyrSUM.mod\n",
      " -> \u001b[32mNMODL\u001b[0m ../modfiles/SK.mod\n",
      " -> \u001b[32mNMODL\u001b[0m ../modfiles/vecevent.mod\n",
      " -> \u001b[32mCompiling\u001b[0m AMPA_NMDA.c\n",
      "Notice: ARTIFICIAL_CELL is a synonym for POINT_PROCESS which hints that it\n",
      "only affects and is affected by discrete events. As such it is not\n",
      "located in a section and is not associated with an integrator\n",
      " -> \u001b[32mCompiling\u001b[0m AMPA_NMDA_STP_LTP.c\n",
      " -> \u001b[32mCompiling\u001b[0m AMPA_NMDA_STP.c\n",
      " -> \u001b[32mCompiling\u001b[0m CaDynamics.c\n"
     ]
    },
    {
     "name": "stderr",
     "output_type": "stream",
     "text": [
      "Translating AMPA_NMDA_STP.mod into /home/drfrbc/Neural-Modeling/Allen/Cell_477127614/x86_64/AMPA_NMDA_STP.c\n",
      "Translating AMPA_NMDA.mod into /home/drfrbc/Neural-Modeling/Allen/Cell_477127614/x86_64/AMPA_NMDA.c\n",
      "Translating AMPA_NMDA_STP_LTP.mod into /home/drfrbc/Neural-Modeling/Allen/Cell_477127614/x86_64/AMPA_NMDA_STP_LTP.c\n",
      "Thread Safe\n",
      "Thread Safe\n",
      "Thread Safe\n",
      "Translating CaDynamics.mod into /home/drfrbc/Neural-Modeling/Allen/Cell_477127614/x86_64/CaDynamics.c\n",
      "Translating Ca_HVA.mod into /home/drfrbc/Neural-Modeling/Allen/Cell_477127614/x86_64/Ca_HVA.c\n",
      "Thread Safe\n",
      "Thread Safe\n",
      "Translating Ca_LVA.mod into /home/drfrbc/Neural-Modeling/Allen/Cell_477127614/x86_64/Ca_LVA.c\n",
      "Thread Safe\n",
      "Translating GABA_AB.mod into /home/drfrbc/Neural-Modeling/Allen/Cell_477127614/x86_64/GABA_AB.c\n",
      "Translating GABA_AB_STP.mod into /home/drfrbc/Neural-Modeling/Allen/Cell_477127614/x86_64/GABA_AB_STP.c\n",
      "Thread Safe\n",
      "Thread Safe\n",
      "Translating Ih.mod into /home/drfrbc/Neural-Modeling/Allen/Cell_477127614/x86_64/Ih.c\n",
      "Thread Safe\n",
      "Translating Im.mod into /home/drfrbc/Neural-Modeling/Allen/Cell_477127614/x86_64/Im.c\n",
      "Translating Im_v2.mod into /home/drfrbc/Neural-Modeling/Allen/Cell_477127614/x86_64/Im_v2.c\n",
      "Thread Safe\n",
      "Thread Safe\n",
      "Translating int2pyr.mod into /home/drfrbc/Neural-Modeling/Allen/Cell_477127614/x86_64/int2pyr.c\n",
      "Translating Kd.mod into /home/drfrbc/Neural-Modeling/Allen/Cell_477127614/x86_64/Kd.c\n",
      "WARNING: Dimensions may be wrong for READ ica with POINT_PROCESS\n",
      "WARNING: Dimensions may be wrong for READ ica with POINT_PROCESS\n",
      "Translating K_P.mod into /home/drfrbc/Neural-Modeling/Allen/Cell_477127614/x86_64/K_P.c\n",
      "Thread Safe\n",
      "WARNING: Dimensions may be wrong for READ ica with POINT_PROCESS\n",
      "WARNING: Dimensions may be wrong for READ ica with POINT_PROCESS\n",
      "WARNING: Dimensions may be wrong for READ ica with POINT_PROCESS\n",
      "Thread Safe\n",
      "Thread Safe\n",
      "Translating K_T.mod into /home/drfrbc/Neural-Modeling/Allen/Cell_477127614/x86_64/K_T.c\n",
      "Translating Kv2like.mod into /home/drfrbc/Neural-Modeling/Allen/Cell_477127614/x86_64/Kv2like.c\n",
      "Thread Safe\n",
      "Translating Kv3_1.mod into /home/drfrbc/Neural-Modeling/Allen/Cell_477127614/x86_64/Kv3_1.c\n",
      "Thread Safe\n",
      "Thread Safe\n",
      "Translating NaTa.mod into /home/drfrbc/Neural-Modeling/Allen/Cell_477127614/x86_64/NaTa.c\n",
      "Translating Nap.mod into /home/drfrbc/Neural-Modeling/Allen/Cell_477127614/x86_64/Nap.c\n",
      "Thread Safe\n",
      "Thread Safe\n",
      "Translating NaTs.mod into /home/drfrbc/Neural-Modeling/Allen/Cell_477127614/x86_64/NaTs.c\n",
      "Thread Safe\n",
      "Translating NaV.mod into /home/drfrbc/Neural-Modeling/Allen/Cell_477127614/x86_64/NaV.c\n",
      "Translating pyr2pyr.mod into /home/drfrbc/Neural-Modeling/Allen/Cell_477127614/x86_64/pyr2pyr.c\n",
      "Translating pyr2pyrSUM.mod into /home/drfrbc/Neural-Modeling/Allen/Cell_477127614/x86_64/pyr2pyrSUM.c\n",
      "NEURON's CVode method ignores conservation\n",
      "Notice: LINEAR is not thread safe.\n",
      "Thread Safe\n",
      "Thread Safe\n",
      "Translating SK.mod into /home/drfrbc/Neural-Modeling/Allen/Cell_477127614/x86_64/SK.c\n",
      "Thread Safe\n",
      "Translating vecevent.mod into /home/drfrbc/Neural-Modeling/Allen/Cell_477127614/x86_64/vecevent.c\n",
      "Notice: Use of POINTER is not thread safe.\n",
      "Notice: VERBATIM blocks are not thread safe\n"
     ]
    },
    {
     "name": "stdout",
     "output_type": "stream",
     "text": [
      " -> \u001b[32mCompiling\u001b[0m Ca_HVA.c\n",
      " -> \u001b[32mCompiling\u001b[0m Ca_LVA.c\n",
      " -> \u001b[32mCompiling\u001b[0m GABA_AB.c\n",
      " -> \u001b[32mCompiling\u001b[0m GABA_AB_STP.c\n",
      " -> \u001b[32mCompiling\u001b[0m Ih.c\n",
      " -> \u001b[32mCompiling\u001b[0m Im.c\n",
      " -> \u001b[32mCompiling\u001b[0m Im_v2.c\n",
      " -> \u001b[32mCompiling\u001b[0m int2pyr.c\n",
      " -> \u001b[32mCompiling\u001b[0m Kd.c\n",
      " -> \u001b[32mCompiling\u001b[0m K_P.c\n",
      " -> \u001b[32mCompiling\u001b[0m K_T.c\n",
      " -> \u001b[32mCompiling\u001b[0m Kv2like.c\n",
      " -> \u001b[32mCompiling\u001b[0m Kv3_1.c\n",
      " -> \u001b[32mCompiling\u001b[0m Nap.c\n",
      " -> \u001b[32mCompiling\u001b[0m NaTa.c\n",
      " -> \u001b[32mCompiling\u001b[0m NaTs.c\n",
      " -> \u001b[32mCompiling\u001b[0m NaV.c\n",
      " -> \u001b[32mCompiling\u001b[0m pyr2pyr.c\n",
      " -> \u001b[32mCompiling\u001b[0m pyr2pyrSUM.c\n",
      " -> \u001b[32mCompiling\u001b[0m SK.c\n",
      " -> \u001b[32mCompiling\u001b[0m vecevent.c\n",
      " => \u001b[32mLINKING\u001b[0m shared library ./libnrnmech.so\n",
      " => \u001b[32mLINKING\u001b[0m executable ./special LDFLAGS are:    -pthread\n",
      "Successfully created x86_64/special\n"
     ]
    },
    {
     "name": "stderr",
     "output_type": "stream",
     "text": [
      "NEURON: NaV is not a MECHANISM\n",
      " near line 1\n",
      " forsec \"axon\" { insert NaV }\n",
      "                          ^\n",
      "NEURON: K_T is not a MECHANISM\n",
      " near line 1\n",
      " forsec \"axon\" { insert K_T }\n",
      "                          ^\n",
      "NEURON: Kd is not a MECHANISM\n",
      " near line 1\n",
      " forsec \"axon\" { insert Kd }\n",
      "                         ^\n",
      "NEURON: Kv2like is not a MECHANISM\n",
      " near line 1\n",
      " forsec \"axon\" { insert Kv2like }\n",
      "                              ^\n",
      "NEURON: Kv3_1 is not a MECHANISM\n",
      " near line 1\n",
      " forsec \"axon\" { insert Kv3_1 }\n",
      "                            ^\n",
      "NEURON: SK is not a MECHANISM\n",
      " near line 1\n",
      " forsec \"axon\" { insert SK }\n",
      "                         ^\n",
      "NEURON: Ca_HVA is not a MECHANISM\n",
      " near line 1\n",
      " forsec \"axon\" { insert Ca_HVA }\n",
      "                             ^\n",
      "NEURON: Ca_LVA is not a MECHANISM\n",
      " near line 1\n",
      " forsec \"axon\" { insert Ca_LVA }\n",
      "                             ^\n",
      "NEURON: CaDynamics is not a MECHANISM\n",
      " near line 1\n",
      " forsec \"axon\" { insert CaDynamics }\n",
      "                                 ^\n",
      "NEURON: CaDynamics is not a MECHANISM\n",
      " near line 1\n",
      " forsec \"axon\" { insert CaDynamics }\n",
      "                                 ^\n",
      "NEURON: NaV is not a MECHANISM\n",
      " near line 1\n",
      " forsec \"soma\" { insert NaV }\n",
      "                          ^\n",
      "NEURON: SK is not a MECHANISM\n",
      " near line 1\n",
      " forsec \"soma\" { insert SK }\n",
      "                         ^\n",
      "NEURON: Kv3_1 is not a MECHANISM\n",
      " near line 1\n",
      " forsec \"soma\" { insert Kv3_1 }\n",
      "                            ^\n",
      "NEURON: Ca_HVA is not a MECHANISM\n",
      " near line 1\n",
      " forsec \"soma\" { insert Ca_HVA }\n",
      "                             ^\n",
      "NEURON: Ca_LVA is not a MECHANISM\n",
      " near line 1\n",
      " forsec \"soma\" { insert Ca_LVA }\n",
      "                             ^\n",
      "NEURON: CaDynamics is not a MECHANISM\n",
      " near line 1\n",
      " forsec \"soma\" { insert CaDynamics }\n",
      "                                 ^\n",
      "NEURON: CaDynamics is not a MECHANISM\n",
      " near line 1\n",
      " forsec \"soma\" { insert CaDynamics }\n",
      "                                 ^\n",
      "NEURON: Ih is not a MECHANISM\n",
      " near line 1\n",
      " forsec \"soma\" { insert Ih }\n",
      "                         ^\n",
      "NEURON: NaV is not a MECHANISM\n",
      " near line 1\n",
      " forsec \"apic\" { insert NaV }\n",
      "                          ^\n",
      "NEURON: Kv3_1 is not a MECHANISM\n",
      " near line 1\n",
      " forsec \"apic\" { insert Kv3_1 }\n",
      "                            ^\n",
      "NEURON: Im_v2 is not a MECHANISM\n",
      " near line 1\n",
      " forsec \"apic\" { insert Im_v2 }\n",
      "                            ^\n",
      "NEURON: Ih is not a MECHANISM\n",
      " near line 1\n",
      " forsec \"apic\" { insert Ih }\n",
      "                         ^\n",
      "NEURON: NaV is not a MECHANISM\n",
      " near line 1\n",
      " forsec \"dend\" { insert NaV }\n",
      "                          ^\n",
      "NEURON: Kv3_1 is not a MECHANISM\n",
      " near line 1\n",
      " forsec \"dend\" { insert Kv3_1 }\n",
      "                            ^\n",
      "NEURON: Im_v2 is not a MECHANISM\n",
      " near line 1\n",
      " forsec \"dend\" { insert Im_v2 }\n",
      "                            ^\n",
      "NEURON: Ih is not a MECHANISM\n",
      " near line 1\n",
      " forsec \"dend\" { insert Ih }\n",
      "                         ^\n",
      "k_ion mechanism not inserted in section soma[0]\n",
      "NEURON: \n",
      " near line 1\n",
      " forsec \"soma\" { ek = -107 }\n",
      "                            ^\n",
      "na_ion mechanism not inserted in section soma[0]\n",
      "NEURON: \n",
      " near line 1\n",
      " forsec \"soma\" { ena = 53 }\n",
      "                           ^\n",
      "k_ion mechanism not inserted in section axon[0]\n",
      "NEURON: \n",
      " near line 1\n",
      " forsec \"axon\" { ek = -107 }\n",
      "                            ^\n",
      "na_ion mechanism not inserted in section axon[0]\n",
      "NEURON: \n",
      " near line 1\n",
      " forsec \"axon\" { ena = 53 }\n",
      "                           ^\n",
      "k_ion mechanism not inserted in section apic[0]\n",
      "NEURON: \n",
      " near line 1\n",
      " forsec \"apic\" { ek = -107 }\n",
      "                            ^\n",
      "na_ion mechanism not inserted in section apic[0]\n",
      "NEURON: \n",
      " near line 1\n",
      " forsec \"apic\" { ena = 53 }\n",
      "                           ^\n",
      "k_ion mechanism not inserted in section dend[0]\n",
      "NEURON: \n",
      " near line 1\n",
      " forsec \"dend\" { ek = -107 }\n",
      "                            ^\n",
      "na_ion mechanism not inserted in section dend[0]\n",
      "NEURON: \n",
      " near line 1\n",
      " forsec \"dend\" { ena = 53 }\n",
      "                           ^\n"
     ]
    }
   ],
   "source": [
    "# compile the downloaded modfiles\n",
    "if not os.path.exists(\"x86_64\"):\n",
    "    print(\"compiling modfiles\")\n",
    "    subprocess.run(\"nrnivmodl modfiles\", shell=True, check=True)\n",
    "else:\n",
    "    print(\"modfiles already compiled. skipping\")\n",
    "\n",
    "# Create the h object\n",
    "description = Config().load('manifest.json')\n",
    "utils = Utils(description)\n",
    "h = utils.h\n",
    "\n",
    "# convert 'values' from string to float\n",
    "for dict in utils.description.data['genome']:\n",
    "    for key,item in dict.items():\n",
    "        if key == 'value':\n",
    "            dict[key] = float(item)\n",
    "\n",
    "# load user specifications\n",
    "user_specs_dict = load_dictionary_from_json(\"../user_specifications.json\")\n",
    "\n",
    "if user_specs_dict:\n",
    "    utils = update_missing_passive_values(utils, user_specs_dict)\n",
    "\n",
    "# read morphology\n",
    "manifest = description.manifest\n",
    "morphology_path = description.manifest.get_path('MORPHOLOGY')\n",
    "utils.generate_morphology(morphology_path.encode('ascii', 'ignore'))\n",
    "\n",
    "# build the cell. Its parts will be assigned to the h object\n",
    "utils.load_cell_parameters()"
   ]
  },
  {
   "cell_type": "code",
   "execution_count": 37,
   "metadata": {},
   "outputs": [],
   "source": [
    "class SkeletonCell():\n",
    "    def __init__(self, h):\n",
    "        self.soma = list(h.soma)\n",
    "        self.all = [sec for sec in h.allsec()]\n",
    "        self.apic = list(h.apic)\n",
    "        self.dend = list(h.dend)\n",
    "        self.axon = list(h.axon)"
   ]
  },
  {
   "cell_type": "code",
   "execution_count": 38,
   "metadata": {},
   "outputs": [],
   "source": [
    "skeleton_cell = SkeletonCell(utils.h)"
   ]
  },
  {
   "cell_type": "code",
   "execution_count": 39,
   "metadata": {},
   "outputs": [
    {
     "data": {
      "text/plain": [
       "[soma[0]]"
      ]
     },
     "execution_count": 39,
     "metadata": {},
     "output_type": "execute_result"
    }
   ],
   "source": [
    "skeleton_cell.soma"
   ]
  }
 ],
 "metadata": {
  "kernelspec": {
   "display_name": "sim_env",
   "language": "python",
   "name": "python3"
  },
  "language_info": {
   "codemirror_mode": {
    "name": "ipython",
    "version": 3
   },
   "file_extension": ".py",
   "mimetype": "text/x-python",
   "name": "python",
   "nbconvert_exporter": "python",
   "pygments_lexer": "ipython3",
   "version": "3.10.14"
  }
 },
 "nbformat": 4,
 "nbformat_minor": 2
}
