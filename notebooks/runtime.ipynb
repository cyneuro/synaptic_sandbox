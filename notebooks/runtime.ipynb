{
 "cells": [
  {
   "cell_type": "code",
   "execution_count": 9,
   "metadata": {},
   "outputs": [],
   "source": [
    "import os\n",
    "import pandas as pd"
   ]
  },
  {
   "cell_type": "code",
   "execution_count": 10,
   "metadata": {},
   "outputs": [],
   "source": [
    "simulations_dir = '/home/drfrbc/Neural-Modeling/scripts/2025-03-17-13-15-all3_stas_multiple_seeds_NoMapping'\n",
    "simulations_dir = \"/home/drfrbc/Neural-Modeling/scripts/2025-03-19-11-31-stas_final_hopefully/\""
   ]
  },
  {
   "cell_type": "code",
   "execution_count": 11,
   "metadata": {},
   "outputs": [
    {
     "data": {
      "text/plain": [
       "['sta_Complex_DepthPeriInh0.0000_DepthDistalInh0.0000_Np5000',\n",
       " 'sta_Complex_DepthPeriInh0.0000_DepthDistalInh0.1000_Np5000',\n",
       " 'sta_ReduceBranches_DepthPeriInh0.1000_DepthDistalInh0.0000_Np5000',\n",
       " 'sta_Complex_DepthPeriInh0.1000_DepthDistalInh0.0000_Np5000',\n",
       " 'sta_Complex_DepthPeriInh0.1000_DepthDistalInh0.1000_Np5000',\n",
       " 'sta_ReduceBranches_DepthPeriInh0.1000_DepthDistalInh0.1000_Np5000',\n",
       " 'sta_ReduceBranches_DepthPeriInh0.0000_DepthDistalInh0.1000_Np5000',\n",
       " 'sta_ReduceBranches_DepthPeriInh0.0000_DepthDistalInh0.0000_Np5000']"
      ]
     },
     "execution_count": 11,
     "metadata": {},
     "output_type": "execute_result"
    }
   ],
   "source": [
    "sim_folders = os.listdir(simulations_dir)\n",
    "sim_folders"
   ]
  },
  {
   "cell_type": "code",
   "execution_count": null,
   "metadata": {},
   "outputs": [
    {
     "data": {
      "text/plain": [
       "{'sim_folder': 'sta_ReduceBranches_DepthPeriInh0.0000_DepthDistalInh0.0000_Np5000',\n",
       " 'runtimes':                     timestamp                 module              function  \\\n",
       " 0                   timestamp                 module              function   \n",
       " 1  2025-03-19 12:07:34.271222  morph_reduction_utils          map_synapses   \n",
       " 2  2025-03-19 12:07:34.275980           cell_builder  replace_dend_with_CI   \n",
       " 3  2025-03-19 12:07:34.330540           cell_builder            build_cell   \n",
       " 4  2025-03-19 14:58:19.808767       simulation_slurm              simulate   \n",
       " \n",
       "                   runtime  \n",
       " 0                 runtime  \n",
       " 1       479.4989924430847  \n",
       " 2  1.0728836059570312e-05  \n",
       " 3      2185.2533259391785  \n",
       " 4      10206.609074354172  }"
      ]
     },
     "execution_count": 28,
     "metadata": {},
     "output_type": "execute_result"
    }
   ],
   "source": [
    "# simulations = {}\n",
    "# for sim_folder in sim_folders:\n",
    "#     simulations['sim_folder'] = sim_folder\n",
    "#     runtimes = pd.read_csv(os.path.join(simulations_dir, sim_folder, 'runtimes.csv'), header=None)\n",
    "#     runtimes.columns = [\"timestamp\", \"module\", \"function\", \"runtime\"]\n",
    "#     simulations['runtimes'] = runtimes\n",
    "# simulations"
   ]
  },
  {
   "cell_type": "code",
   "execution_count": 40,
   "metadata": {},
   "outputs": [
    {
     "data": {
      "text/plain": [
       "[11492.530847787857,\n",
       " 12538.006439685822,\n",
       " 9792.660229444504,\n",
       " 13399.837486743927,\n",
       " 12790.244903087616,\n",
       " 6638.560677051544,\n",
       " 8624.251434087753,\n",
       " 10206.609074354172]"
      ]
     },
     "execution_count": 40,
     "metadata": {},
     "output_type": "execute_result"
    }
   ],
   "source": [
    "sim_runtimes = []\n",
    "for sim_folder in sim_folders:\n",
    "    runtimes = pd.read_csv(os.path.join(simulations_dir, sim_folder, 'runtimes.csv'), header=None)\n",
    "    runtimes.columns = [\"timestamp\", \"module\", \"function\", \"runtime\"]\n",
    "    # print(runtimes[runtimes['function'] == 'simulate'])\n",
    "    sim_runtimes.append(float(runtimes[runtimes['function'] == 'simulate'].runtime))\n",
    "\n",
    "sim_runtimes"
   ]
  },
  {
   "cell_type": "code",
   "execution_count": 41,
   "metadata": {},
   "outputs": [
    {
     "data": {
      "text/plain": [
       "['sta_Complex_DepthPeriInh0.0000_DepthDistalInh0.0000_Np5000',\n",
       " 'sta_Complex_DepthPeriInh0.0000_DepthDistalInh0.1000_Np5000',\n",
       " 'sta_ReduceBranches_DepthPeriInh0.1000_DepthDistalInh0.0000_Np5000',\n",
       " 'sta_Complex_DepthPeriInh0.1000_DepthDistalInh0.0000_Np5000',\n",
       " 'sta_Complex_DepthPeriInh0.1000_DepthDistalInh0.1000_Np5000',\n",
       " 'sta_ReduceBranches_DepthPeriInh0.1000_DepthDistalInh0.1000_Np5000',\n",
       " 'sta_ReduceBranches_DepthPeriInh0.0000_DepthDistalInh0.1000_Np5000',\n",
       " 'sta_ReduceBranches_DepthPeriInh0.0000_DepthDistalInh0.0000_Np5000']"
      ]
     },
     "execution_count": 41,
     "metadata": {},
     "output_type": "execute_result"
    }
   ],
   "source": [
    "sim_folders"
   ]
  },
  {
   "cell_type": "code",
   "execution_count": 42,
   "metadata": {},
   "outputs": [
    {
     "data": {
      "text/html": [
       "<div>\n",
       "<style scoped>\n",
       "    .dataframe tbody tr th:only-of-type {\n",
       "        vertical-align: middle;\n",
       "    }\n",
       "\n",
       "    .dataframe tbody tr th {\n",
       "        vertical-align: top;\n",
       "    }\n",
       "\n",
       "    .dataframe thead th {\n",
       "        text-align: right;\n",
       "    }\n",
       "</style>\n",
       "<table border=\"1\" class=\"dataframe\">\n",
       "  <thead>\n",
       "    <tr style=\"text-align: right;\">\n",
       "      <th></th>\n",
       "      <th>sim_folder</th>\n",
       "      <th>runtime</th>\n",
       "    </tr>\n",
       "  </thead>\n",
       "  <tbody>\n",
       "    <tr>\n",
       "      <th>0</th>\n",
       "      <td>sta_Complex_DepthPeriInh0.0000_DepthDistalInh0...</td>\n",
       "      <td>11492.530848</td>\n",
       "    </tr>\n",
       "    <tr>\n",
       "      <th>1</th>\n",
       "      <td>sta_Complex_DepthPeriInh0.0000_DepthDistalInh0...</td>\n",
       "      <td>12538.006440</td>\n",
       "    </tr>\n",
       "    <tr>\n",
       "      <th>2</th>\n",
       "      <td>sta_ReduceBranches_DepthPeriInh0.1000_DepthDis...</td>\n",
       "      <td>9792.660229</td>\n",
       "    </tr>\n",
       "    <tr>\n",
       "      <th>3</th>\n",
       "      <td>sta_Complex_DepthPeriInh0.1000_DepthDistalInh0...</td>\n",
       "      <td>13399.837487</td>\n",
       "    </tr>\n",
       "    <tr>\n",
       "      <th>4</th>\n",
       "      <td>sta_Complex_DepthPeriInh0.1000_DepthDistalInh0...</td>\n",
       "      <td>12790.244903</td>\n",
       "    </tr>\n",
       "    <tr>\n",
       "      <th>5</th>\n",
       "      <td>sta_ReduceBranches_DepthPeriInh0.1000_DepthDis...</td>\n",
       "      <td>6638.560677</td>\n",
       "    </tr>\n",
       "    <tr>\n",
       "      <th>6</th>\n",
       "      <td>sta_ReduceBranches_DepthPeriInh0.0000_DepthDis...</td>\n",
       "      <td>8624.251434</td>\n",
       "    </tr>\n",
       "    <tr>\n",
       "      <th>7</th>\n",
       "      <td>sta_ReduceBranches_DepthPeriInh0.0000_DepthDis...</td>\n",
       "      <td>10206.609074</td>\n",
       "    </tr>\n",
       "  </tbody>\n",
       "</table>\n",
       "</div>"
      ],
      "text/plain": [
       "                                          sim_folder       runtime\n",
       "0  sta_Complex_DepthPeriInh0.0000_DepthDistalInh0...  11492.530848\n",
       "1  sta_Complex_DepthPeriInh0.0000_DepthDistalInh0...  12538.006440\n",
       "2  sta_ReduceBranches_DepthPeriInh0.1000_DepthDis...   9792.660229\n",
       "3  sta_Complex_DepthPeriInh0.1000_DepthDistalInh0...  13399.837487\n",
       "4  sta_Complex_DepthPeriInh0.1000_DepthDistalInh0...  12790.244903\n",
       "5  sta_ReduceBranches_DepthPeriInh0.1000_DepthDis...   6638.560677\n",
       "6  sta_ReduceBranches_DepthPeriInh0.0000_DepthDis...   8624.251434\n",
       "7  sta_ReduceBranches_DepthPeriInh0.0000_DepthDis...  10206.609074"
      ]
     },
     "execution_count": 42,
     "metadata": {},
     "output_type": "execute_result"
    }
   ],
   "source": [
    "runtimes_df = pd.DataFrame(sim_folders, columns=['sim_folder'])\n",
    "runtimes_df['runtime'] = sim_runtimes\n",
    "runtimes_df"
   ]
  },
  {
   "cell_type": "code",
   "execution_count": 6,
   "metadata": {},
   "outputs": [],
   "source": [
    "# simulate_runtime = simulations[0]['runtimes'].loc[\n",
    "#     simulations[0]['runtimes']['function'] == 'simulate', 'runtime'\n",
    "# ].iloc[0]\n",
    "# simulate_runtime = float(simulate_runtime)\n"
   ]
  },
  {
   "cell_type": "code",
   "execution_count": 7,
   "metadata": {},
   "outputs": [],
   "source": [
    "# simulate_runtime = float(\n",
    "#     simulations[0]['runtimes']\n",
    "#     .query(\"function == 'simulate'\")['runtime']\n",
    "#     .item()\n",
    "# )\n"
   ]
  }
 ],
 "metadata": {
  "kernelspec": {
   "display_name": "sim_env",
   "language": "python",
   "name": "python3"
  },
  "language_info": {
   "codemirror_mode": {
    "name": "ipython",
    "version": 3
   },
   "file_extension": ".py",
   "mimetype": "text/x-python",
   "name": "python",
   "nbconvert_exporter": "python",
   "pygments_lexer": "ipython3",
   "version": "3.10.14"
  }
 },
 "nbformat": 4,
 "nbformat_minor": 2
}
