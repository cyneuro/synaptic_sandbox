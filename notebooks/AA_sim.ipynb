{
 "cells": [
  {
   "cell_type": "code",
   "execution_count": 1,
   "metadata": {},
   "outputs": [
    {
     "name": "stdout",
     "output_type": "stream",
     "text": [
      "/home/drfrbc/Neural-Modeling/notebooks\n",
      "/home/drfrbc/Neural-Modeling/simulations\n"
     ]
    }
   ],
   "source": [
    "import sys\n",
    "sys.path.append('..')\n",
    "sys.path.append('../Modules')\n",
    "\n",
    "import os\n",
    "import pandas as pd\n",
    "import numpy as np\n",
    "import matplotlib.pyplot as plt\n",
    "print(os.getcwd())\n",
    "if 'notebook' in os.getcwd():\n",
    "    # os.chdir(\"../scripts\") # go from Neural-Modeling/notebooks to Neural-Modeling/scripts, where simulation outputs will be generated to. (maybe a separate folder could be used...)\n",
    "    os.chdir(\"../simulations\") # go to output folder\n",
    "    print(os.getcwd())"
   ]
  },
  {
   "cell_type": "code",
   "execution_count": 2,
   "metadata": {},
   "outputs": [],
   "source": [
    "# sim_dir = \"/home/drfrbc/Neural-Modeling/simulations/2025-05-07-11-26-description_of_simulation_set/description_of_simulation1_within_set\"\n",
    "sim_dir ='/home/drfrbc/Neural-Modeling/simulations/2025-05-28-16-28-baseline_clusters/complex'\n",
    "# sim_dir = \"/home/drfrbc/Neural-Modeling/simulations/2025-05-23-11-54-baseline_no_clusters/reduced_branches\""
   ]
  },
  {
   "cell_type": "code",
   "execution_count": 3,
   "metadata": {},
   "outputs": [
    {
     "name": "stderr",
     "output_type": "stream",
     "text": [
      "Warning: no DISPLAY environment variable.\n",
      "--No graphics will be displayed.\n"
     ]
    }
   ],
   "source": [
    "import Modules.analysis as analysis\n",
    "parameters = analysis.DataReader.load_parameters(sim_dir)"
   ]
  },
  {
   "cell_type": "code",
   "execution_count": 4,
   "metadata": {},
   "outputs": [
    {
     "data": {
      "text/plain": [
       "5000"
      ]
     },
     "execution_count": 4,
     "metadata": {},
     "output_type": "execute_result"
    }
   ],
   "source": [
    "parameters.h_tstop"
   ]
  },
  {
   "cell_type": "markdown",
   "metadata": {},
   "source": [
    "## Read simulation folder to build cell with synapses."
   ]
  },
  {
   "cell_type": "code",
   "execution_count": 5,
   "metadata": {},
   "outputs": [
    {
     "name": "stdout",
     "output_type": "stream",
     "text": [
      "Mod files loaded successfully\n",
      "Removing duplicate coordinate at index 1 in section L5PCtemplate[0].apic[0]\n"
     ]
    }
   ],
   "source": [
    "from Modules.synapses_file import PreSimSynapseGenerator #TODO: rename synapses_file to something else\n",
    "pssg = PreSimSynapseGenerator(sim_dir)\n",
    "cell = pssg.build_synapses_onto_cell_obj() # TODO: Implement run on all simulations within sims_dir"
   ]
  },
  {
   "cell_type": "markdown",
   "metadata": {},
   "source": [
    "## Simulate"
   ]
  },
  {
   "cell_type": "code",
   "execution_count": 6,
   "metadata": {},
   "outputs": [],
   "source": [
    "from Modules.simulation_slurm import Simulation\n",
    "from Modules.cell_builder import SkeletonCell\n",
    "from Modules.logger import Logger\n",
    "\n",
    "sim = Simulation(getattr(SkeletonCell, parameters.skeleton_cell_type), create_dir = False) #TODO: clean up implementation. Probably creating extra folder. # create_dir is a quick fix to prevent creating a new sim_dir (based on skeleton_cell) since we are using a sim_dir that already exists.\n",
    "#TODO: Prevent Simulation from creating a new sim_dir if one already exists. (path using skeleton_cell)\n",
    "#TODO: move builder_runtime.txt and replace_runtime.txt to sim_dir and to runtimes.csv\n",
    "sim.path = os.path.split(sim_dir)[0] #simulator.sims_dir\n",
    "sim.logger = Logger(sim_dir)\n",
    "\n",
    "sim.run_single_simulation(parameters=parameters, cell=cell)"
   ]
  }
 ],
 "metadata": {
  "kernelspec": {
   "display_name": "sim_env",
   "language": "python",
   "name": "python3"
  },
  "language_info": {
   "codemirror_mode": {
    "name": "ipython",
    "version": 3
   },
   "file_extension": ".py",
   "mimetype": "text/x-python",
   "name": "python",
   "nbconvert_exporter": "python",
   "pygments_lexer": "ipython3",
   "version": "3.10.14"
  }
 },
 "nbformat": 4,
 "nbformat_minor": 2
}
